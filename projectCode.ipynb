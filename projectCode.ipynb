{
  "nbformat": 4,
  "nbformat_minor": 0,
  "metadata": {
    "colab": {
      "provenance": []
    },
    "kernelspec": {
      "name": "python3",
      "display_name": "Python 3"
    },
    "language_info": {
      "name": "python"
    }
  },
  "cells": [
    {
      "cell_type": "code",
      "source": [
        "import numpy as np\n",
        "import matplotlib.pyplot as plt\n",
        "import pandas as pd\n",
        "\n",
        "from sklearn.linear_model import LinearRegression\n",
        "from sklearn.metrics import mean_squared_error"
      ],
      "metadata": {
        "id": "Hq6dsGSo1vSu"
      },
      "execution_count": 6,
      "outputs": []
    },
    {
      "cell_type": "code",
      "execution_count": 37,
      "metadata": {
        "colab": {
          "base_uri": "https://localhost:8080/",
          "height": 423
        },
        "id": "filgjoVy9Msu",
        "outputId": "ba030e81-a871-4956-cfa4-db8db7000d3f"
      },
      "outputs": [
        {
          "output_type": "execute_result",
          "data": {
            "text/plain": [
              "           Date      Open      High       Low     Close  Change       Volume\n",
              "0     23-Feb-21  31722.16  31800.90  31597.31  31626.19  -21.38  718191025.0\n",
              "1     22-Feb-21  31874.78  31958.58  31612.55  31647.57 -203.61  721952658.0\n",
              "2     19-Feb-21  31748.75  31904.30  31749.43  31851.18   91.36  694795084.0\n",
              "3     18-Feb-21  32049.85  32104.67  31745.72  31759.82 -288.86  577837595.0\n",
              "4     17-Feb-21  32166.21  32390.77  32044.01  32048.68  -93.15  701658181.0\n",
              "...         ...       ...       ...       ...       ...     ...          ...\n",
              "3216  28-Feb-08  10688.98  10724.21  10655.23  10704.15   39.79  325539584.0\n",
              "3217  27-Feb-08  10670.68  10732.92  10623.36  10664.36   -3.99  396419776.0\n",
              "3218  26-Feb-08  10596.40  10668.35  10578.01  10668.35   79.51  265668784.0\n",
              "3219  25-Feb-08  10625.66  10709.06  10579.49  10588.84  -18.45  273149184.0\n",
              "3220  22-Feb-08  10634.22  10635.42  10546.38  10607.29    0.00  313082688.0\n",
              "\n",
              "[3221 rows x 7 columns]"
            ],
            "text/html": [
              "\n",
              "  <div id=\"df-91037165-8a34-4f64-97cf-23fd749f3f0e\" class=\"colab-df-container\">\n",
              "    <div>\n",
              "<style scoped>\n",
              "    .dataframe tbody tr th:only-of-type {\n",
              "        vertical-align: middle;\n",
              "    }\n",
              "\n",
              "    .dataframe tbody tr th {\n",
              "        vertical-align: top;\n",
              "    }\n",
              "\n",
              "    .dataframe thead th {\n",
              "        text-align: right;\n",
              "    }\n",
              "</style>\n",
              "<table border=\"1\" class=\"dataframe\">\n",
              "  <thead>\n",
              "    <tr style=\"text-align: right;\">\n",
              "      <th></th>\n",
              "      <th>Date</th>\n",
              "      <th>Open</th>\n",
              "      <th>High</th>\n",
              "      <th>Low</th>\n",
              "      <th>Close</th>\n",
              "      <th>Change</th>\n",
              "      <th>Volume</th>\n",
              "    </tr>\n",
              "  </thead>\n",
              "  <tbody>\n",
              "    <tr>\n",
              "      <th>0</th>\n",
              "      <td>23-Feb-21</td>\n",
              "      <td>31722.16</td>\n",
              "      <td>31800.90</td>\n",
              "      <td>31597.31</td>\n",
              "      <td>31626.19</td>\n",
              "      <td>-21.38</td>\n",
              "      <td>718191025.0</td>\n",
              "    </tr>\n",
              "    <tr>\n",
              "      <th>1</th>\n",
              "      <td>22-Feb-21</td>\n",
              "      <td>31874.78</td>\n",
              "      <td>31958.58</td>\n",
              "      <td>31612.55</td>\n",
              "      <td>31647.57</td>\n",
              "      <td>-203.61</td>\n",
              "      <td>721952658.0</td>\n",
              "    </tr>\n",
              "    <tr>\n",
              "      <th>2</th>\n",
              "      <td>19-Feb-21</td>\n",
              "      <td>31748.75</td>\n",
              "      <td>31904.30</td>\n",
              "      <td>31749.43</td>\n",
              "      <td>31851.18</td>\n",
              "      <td>91.36</td>\n",
              "      <td>694795084.0</td>\n",
              "    </tr>\n",
              "    <tr>\n",
              "      <th>3</th>\n",
              "      <td>18-Feb-21</td>\n",
              "      <td>32049.85</td>\n",
              "      <td>32104.67</td>\n",
              "      <td>31745.72</td>\n",
              "      <td>31759.82</td>\n",
              "      <td>-288.86</td>\n",
              "      <td>577837595.0</td>\n",
              "    </tr>\n",
              "    <tr>\n",
              "      <th>4</th>\n",
              "      <td>17-Feb-21</td>\n",
              "      <td>32166.21</td>\n",
              "      <td>32390.77</td>\n",
              "      <td>32044.01</td>\n",
              "      <td>32048.68</td>\n",
              "      <td>-93.15</td>\n",
              "      <td>701658181.0</td>\n",
              "    </tr>\n",
              "    <tr>\n",
              "      <th>...</th>\n",
              "      <td>...</td>\n",
              "      <td>...</td>\n",
              "      <td>...</td>\n",
              "      <td>...</td>\n",
              "      <td>...</td>\n",
              "      <td>...</td>\n",
              "      <td>...</td>\n",
              "    </tr>\n",
              "    <tr>\n",
              "      <th>3216</th>\n",
              "      <td>28-Feb-08</td>\n",
              "      <td>10688.98</td>\n",
              "      <td>10724.21</td>\n",
              "      <td>10655.23</td>\n",
              "      <td>10704.15</td>\n",
              "      <td>39.79</td>\n",
              "      <td>325539584.0</td>\n",
              "    </tr>\n",
              "    <tr>\n",
              "      <th>3217</th>\n",
              "      <td>27-Feb-08</td>\n",
              "      <td>10670.68</td>\n",
              "      <td>10732.92</td>\n",
              "      <td>10623.36</td>\n",
              "      <td>10664.36</td>\n",
              "      <td>-3.99</td>\n",
              "      <td>396419776.0</td>\n",
              "    </tr>\n",
              "    <tr>\n",
              "      <th>3218</th>\n",
              "      <td>26-Feb-08</td>\n",
              "      <td>10596.40</td>\n",
              "      <td>10668.35</td>\n",
              "      <td>10578.01</td>\n",
              "      <td>10668.35</td>\n",
              "      <td>79.51</td>\n",
              "      <td>265668784.0</td>\n",
              "    </tr>\n",
              "    <tr>\n",
              "      <th>3219</th>\n",
              "      <td>25-Feb-08</td>\n",
              "      <td>10625.66</td>\n",
              "      <td>10709.06</td>\n",
              "      <td>10579.49</td>\n",
              "      <td>10588.84</td>\n",
              "      <td>-18.45</td>\n",
              "      <td>273149184.0</td>\n",
              "    </tr>\n",
              "    <tr>\n",
              "      <th>3220</th>\n",
              "      <td>22-Feb-08</td>\n",
              "      <td>10634.22</td>\n",
              "      <td>10635.42</td>\n",
              "      <td>10546.38</td>\n",
              "      <td>10607.29</td>\n",
              "      <td>0.00</td>\n",
              "      <td>313082688.0</td>\n",
              "    </tr>\n",
              "  </tbody>\n",
              "</table>\n",
              "<p>3221 rows × 7 columns</p>\n",
              "</div>\n",
              "    <div class=\"colab-df-buttons\">\n",
              "\n",
              "  <div class=\"colab-df-container\">\n",
              "    <button class=\"colab-df-convert\" onclick=\"convertToInteractive('df-91037165-8a34-4f64-97cf-23fd749f3f0e')\"\n",
              "            title=\"Convert this dataframe to an interactive table.\"\n",
              "            style=\"display:none;\">\n",
              "\n",
              "  <svg xmlns=\"http://www.w3.org/2000/svg\" height=\"24px\" viewBox=\"0 -960 960 960\">\n",
              "    <path d=\"M120-120v-720h720v720H120Zm60-500h600v-160H180v160Zm220 220h160v-160H400v160Zm0 220h160v-160H400v160ZM180-400h160v-160H180v160Zm440 0h160v-160H620v160ZM180-180h160v-160H180v160Zm440 0h160v-160H620v160Z\"/>\n",
              "  </svg>\n",
              "    </button>\n",
              "\n",
              "  <style>\n",
              "    .colab-df-container {\n",
              "      display:flex;\n",
              "      gap: 12px;\n",
              "    }\n",
              "\n",
              "    .colab-df-convert {\n",
              "      background-color: #E8F0FE;\n",
              "      border: none;\n",
              "      border-radius: 50%;\n",
              "      cursor: pointer;\n",
              "      display: none;\n",
              "      fill: #1967D2;\n",
              "      height: 32px;\n",
              "      padding: 0 0 0 0;\n",
              "      width: 32px;\n",
              "    }\n",
              "\n",
              "    .colab-df-convert:hover {\n",
              "      background-color: #E2EBFA;\n",
              "      box-shadow: 0px 1px 2px rgba(60, 64, 67, 0.3), 0px 1px 3px 1px rgba(60, 64, 67, 0.15);\n",
              "      fill: #174EA6;\n",
              "    }\n",
              "\n",
              "    .colab-df-buttons div {\n",
              "      margin-bottom: 4px;\n",
              "    }\n",
              "\n",
              "    [theme=dark] .colab-df-convert {\n",
              "      background-color: #3B4455;\n",
              "      fill: #D2E3FC;\n",
              "    }\n",
              "\n",
              "    [theme=dark] .colab-df-convert:hover {\n",
              "      background-color: #434B5C;\n",
              "      box-shadow: 0px 1px 3px 1px rgba(0, 0, 0, 0.15);\n",
              "      filter: drop-shadow(0px 1px 2px rgba(0, 0, 0, 0.3));\n",
              "      fill: #FFFFFF;\n",
              "    }\n",
              "  </style>\n",
              "\n",
              "    <script>\n",
              "      const buttonEl =\n",
              "        document.querySelector('#df-91037165-8a34-4f64-97cf-23fd749f3f0e button.colab-df-convert');\n",
              "      buttonEl.style.display =\n",
              "        google.colab.kernel.accessAllowed ? 'block' : 'none';\n",
              "\n",
              "      async function convertToInteractive(key) {\n",
              "        const element = document.querySelector('#df-91037165-8a34-4f64-97cf-23fd749f3f0e');\n",
              "        const dataTable =\n",
              "          await google.colab.kernel.invokeFunction('convertToInteractive',\n",
              "                                                    [key], {});\n",
              "        if (!dataTable) return;\n",
              "\n",
              "        const docLinkHtml = 'Like what you see? Visit the ' +\n",
              "          '<a target=\"_blank\" href=https://colab.research.google.com/notebooks/data_table.ipynb>data table notebook</a>'\n",
              "          + ' to learn more about interactive tables.';\n",
              "        element.innerHTML = '';\n",
              "        dataTable['output_type'] = 'display_data';\n",
              "        await google.colab.output.renderOutput(dataTable, element);\n",
              "        const docLink = document.createElement('div');\n",
              "        docLink.innerHTML = docLinkHtml;\n",
              "        element.appendChild(docLink);\n",
              "      }\n",
              "    </script>\n",
              "  </div>\n",
              "\n",
              "\n",
              "<div id=\"df-078863ef-31ff-444d-9977-dc4e5f1fbae6\">\n",
              "  <button class=\"colab-df-quickchart\" onclick=\"quickchart('df-078863ef-31ff-444d-9977-dc4e5f1fbae6')\"\n",
              "            title=\"Suggest charts\"\n",
              "            style=\"display:none;\">\n",
              "\n",
              "<svg xmlns=\"http://www.w3.org/2000/svg\" height=\"24px\"viewBox=\"0 0 24 24\"\n",
              "     width=\"24px\">\n",
              "    <g>\n",
              "        <path d=\"M19 3H5c-1.1 0-2 .9-2 2v14c0 1.1.9 2 2 2h14c1.1 0 2-.9 2-2V5c0-1.1-.9-2-2-2zM9 17H7v-7h2v7zm4 0h-2V7h2v10zm4 0h-2v-4h2v4z\"/>\n",
              "    </g>\n",
              "</svg>\n",
              "  </button>\n",
              "\n",
              "<style>\n",
              "  .colab-df-quickchart {\n",
              "      --bg-color: #E8F0FE;\n",
              "      --fill-color: #1967D2;\n",
              "      --hover-bg-color: #E2EBFA;\n",
              "      --hover-fill-color: #174EA6;\n",
              "      --disabled-fill-color: #AAA;\n",
              "      --disabled-bg-color: #DDD;\n",
              "  }\n",
              "\n",
              "  [theme=dark] .colab-df-quickchart {\n",
              "      --bg-color: #3B4455;\n",
              "      --fill-color: #D2E3FC;\n",
              "      --hover-bg-color: #434B5C;\n",
              "      --hover-fill-color: #FFFFFF;\n",
              "      --disabled-bg-color: #3B4455;\n",
              "      --disabled-fill-color: #666;\n",
              "  }\n",
              "\n",
              "  .colab-df-quickchart {\n",
              "    background-color: var(--bg-color);\n",
              "    border: none;\n",
              "    border-radius: 50%;\n",
              "    cursor: pointer;\n",
              "    display: none;\n",
              "    fill: var(--fill-color);\n",
              "    height: 32px;\n",
              "    padding: 0;\n",
              "    width: 32px;\n",
              "  }\n",
              "\n",
              "  .colab-df-quickchart:hover {\n",
              "    background-color: var(--hover-bg-color);\n",
              "    box-shadow: 0 1px 2px rgba(60, 64, 67, 0.3), 0 1px 3px 1px rgba(60, 64, 67, 0.15);\n",
              "    fill: var(--button-hover-fill-color);\n",
              "  }\n",
              "\n",
              "  .colab-df-quickchart-complete:disabled,\n",
              "  .colab-df-quickchart-complete:disabled:hover {\n",
              "    background-color: var(--disabled-bg-color);\n",
              "    fill: var(--disabled-fill-color);\n",
              "    box-shadow: none;\n",
              "  }\n",
              "\n",
              "  .colab-df-spinner {\n",
              "    border: 2px solid var(--fill-color);\n",
              "    border-color: transparent;\n",
              "    border-bottom-color: var(--fill-color);\n",
              "    animation:\n",
              "      spin 1s steps(1) infinite;\n",
              "  }\n",
              "\n",
              "  @keyframes spin {\n",
              "    0% {\n",
              "      border-color: transparent;\n",
              "      border-bottom-color: var(--fill-color);\n",
              "      border-left-color: var(--fill-color);\n",
              "    }\n",
              "    20% {\n",
              "      border-color: transparent;\n",
              "      border-left-color: var(--fill-color);\n",
              "      border-top-color: var(--fill-color);\n",
              "    }\n",
              "    30% {\n",
              "      border-color: transparent;\n",
              "      border-left-color: var(--fill-color);\n",
              "      border-top-color: var(--fill-color);\n",
              "      border-right-color: var(--fill-color);\n",
              "    }\n",
              "    40% {\n",
              "      border-color: transparent;\n",
              "      border-right-color: var(--fill-color);\n",
              "      border-top-color: var(--fill-color);\n",
              "    }\n",
              "    60% {\n",
              "      border-color: transparent;\n",
              "      border-right-color: var(--fill-color);\n",
              "    }\n",
              "    80% {\n",
              "      border-color: transparent;\n",
              "      border-right-color: var(--fill-color);\n",
              "      border-bottom-color: var(--fill-color);\n",
              "    }\n",
              "    90% {\n",
              "      border-color: transparent;\n",
              "      border-bottom-color: var(--fill-color);\n",
              "    }\n",
              "  }\n",
              "</style>\n",
              "\n",
              "  <script>\n",
              "    async function quickchart(key) {\n",
              "      const quickchartButtonEl =\n",
              "        document.querySelector('#' + key + ' button');\n",
              "      quickchartButtonEl.disabled = true;  // To prevent multiple clicks.\n",
              "      quickchartButtonEl.classList.add('colab-df-spinner');\n",
              "      try {\n",
              "        const charts = await google.colab.kernel.invokeFunction(\n",
              "            'suggestCharts', [key], {});\n",
              "      } catch (error) {\n",
              "        console.error('Error during call to suggestCharts:', error);\n",
              "      }\n",
              "      quickchartButtonEl.classList.remove('colab-df-spinner');\n",
              "      quickchartButtonEl.classList.add('colab-df-quickchart-complete');\n",
              "    }\n",
              "    (() => {\n",
              "      let quickchartButtonEl =\n",
              "        document.querySelector('#df-078863ef-31ff-444d-9977-dc4e5f1fbae6 button');\n",
              "      quickchartButtonEl.style.display =\n",
              "        google.colab.kernel.accessAllowed ? 'block' : 'none';\n",
              "    })();\n",
              "  </script>\n",
              "</div>\n",
              "\n",
              "  <div id=\"id_b48b1b59-d786-430a-bb4c-a570429f81a1\">\n",
              "    <style>\n",
              "      .colab-df-generate {\n",
              "        background-color: #E8F0FE;\n",
              "        border: none;\n",
              "        border-radius: 50%;\n",
              "        cursor: pointer;\n",
              "        display: none;\n",
              "        fill: #1967D2;\n",
              "        height: 32px;\n",
              "        padding: 0 0 0 0;\n",
              "        width: 32px;\n",
              "      }\n",
              "\n",
              "      .colab-df-generate:hover {\n",
              "        background-color: #E2EBFA;\n",
              "        box-shadow: 0px 1px 2px rgba(60, 64, 67, 0.3), 0px 1px 3px 1px rgba(60, 64, 67, 0.15);\n",
              "        fill: #174EA6;\n",
              "      }\n",
              "\n",
              "      [theme=dark] .colab-df-generate {\n",
              "        background-color: #3B4455;\n",
              "        fill: #D2E3FC;\n",
              "      }\n",
              "\n",
              "      [theme=dark] .colab-df-generate:hover {\n",
              "        background-color: #434B5C;\n",
              "        box-shadow: 0px 1px 3px 1px rgba(0, 0, 0, 0.15);\n",
              "        filter: drop-shadow(0px 1px 2px rgba(0, 0, 0, 0.3));\n",
              "        fill: #FFFFFF;\n",
              "      }\n",
              "    </style>\n",
              "    <button class=\"colab-df-generate\" onclick=\"generateWithVariable('data')\"\n",
              "            title=\"Generate code using this dataframe.\"\n",
              "            style=\"display:none;\">\n",
              "\n",
              "  <svg xmlns=\"http://www.w3.org/2000/svg\" height=\"24px\"viewBox=\"0 0 24 24\"\n",
              "       width=\"24px\">\n",
              "    <path d=\"M7,19H8.4L18.45,9,17,7.55,7,17.6ZM5,21V16.75L18.45,3.32a2,2,0,0,1,2.83,0l1.4,1.43a1.91,1.91,0,0,1,.58,1.4,1.91,1.91,0,0,1-.58,1.4L9.25,21ZM18.45,9,17,7.55Zm-12,3A5.31,5.31,0,0,0,4.9,8.1,5.31,5.31,0,0,0,1,6.5,5.31,5.31,0,0,0,4.9,4.9,5.31,5.31,0,0,0,6.5,1,5.31,5.31,0,0,0,8.1,4.9,5.31,5.31,0,0,0,12,6.5,5.46,5.46,0,0,0,6.5,12Z\"/>\n",
              "  </svg>\n",
              "    </button>\n",
              "    <script>\n",
              "      (() => {\n",
              "      const buttonEl =\n",
              "        document.querySelector('#id_b48b1b59-d786-430a-bb4c-a570429f81a1 button.colab-df-generate');\n",
              "      buttonEl.style.display =\n",
              "        google.colab.kernel.accessAllowed ? 'block' : 'none';\n",
              "\n",
              "      buttonEl.onclick = () => {\n",
              "        google.colab.notebook.generateWithVariable('data');\n",
              "      }\n",
              "      })();\n",
              "    </script>\n",
              "  </div>\n",
              "\n",
              "    </div>\n",
              "  </div>\n"
            ]
          },
          "metadata": {},
          "execution_count": 37
        }
      ],
      "source": [
        "\n",
        "\n",
        "# Importing dataset\n",
        "data = pd.read_csv('/content/Stock Exchange KSE 100(Pakistan).csv')\n",
        "\n",
        "# Clean and convert numeric columns\n",
        "numeric_cols = ['Open', 'High', 'Low', 'Close', 'Change', 'Volume']\n",
        "for col in numeric_cols:\n",
        "    data[col] = data[col].replace({',': ''}, regex=True).astype(float)\n",
        "data\n",
        "\n"
      ]
    },
    {
      "cell_type": "code",
      "source": [
        "x = data.iloc[:, 1:4].values\n",
        "x"
      ],
      "metadata": {
        "colab": {
          "base_uri": "https://localhost:8080/"
        },
        "id": "3VdsX3MH13Qy",
        "outputId": "73d0d97b-f054-4141-df7d-581f9d7e0f7c"
      },
      "execution_count": 8,
      "outputs": [
        {
          "output_type": "execute_result",
          "data": {
            "text/plain": [
              "array([[31722.16, 31800.9 , 31597.31],\n",
              "       [31874.78, 31958.58, 31612.55],\n",
              "       [31748.75, 31904.3 , 31749.43],\n",
              "       ...,\n",
              "       [10596.4 , 10668.35, 10578.01],\n",
              "       [10625.66, 10709.06, 10579.49],\n",
              "       [10634.22, 10635.42, 10546.38]])"
            ]
          },
          "metadata": {},
          "execution_count": 8
        }
      ]
    },
    {
      "cell_type": "code",
      "source": [
        "y = data.iloc[:, 4].values\n",
        "y"
      ],
      "metadata": {
        "colab": {
          "base_uri": "https://localhost:8080/"
        },
        "id": "sAsAl5ss17cm",
        "outputId": "c1cc1671-02a0-41a1-9265-59aae113314f"
      },
      "execution_count": 9,
      "outputs": [
        {
          "output_type": "execute_result",
          "data": {
            "text/plain": [
              "array([31626.19, 31647.57, 31851.18, ..., 10668.35, 10588.84, 10607.29])"
            ]
          },
          "metadata": {},
          "execution_count": 9
        }
      ]
    },
    {
      "cell_type": "code",
      "source": [
        "# Splitting and training\n",
        "from sklearn.model_selection import train_test_split\n",
        "x_train, x_test, y_train, y_test = train_test_split(x, y, test_size=0.2, random_state=42)"
      ],
      "metadata": {
        "id": "ZmgF4WBHN0z9"
      },
      "execution_count": 10,
      "outputs": []
    },
    {
      "cell_type": "code",
      "source": [
        "# Applying linear regression model\n",
        "regressor = LinearRegression()\n",
        "regressor.fit(x_train, y_train)"
      ],
      "metadata": {
        "colab": {
          "base_uri": "https://localhost:8080/",
          "height": 74
        },
        "id": "SmGgrMwI2DYX",
        "outputId": "919594fb-5a00-421e-b8f9-d6c8b832a02e"
      },
      "execution_count": 11,
      "outputs": [
        {
          "output_type": "execute_result",
          "data": {
            "text/plain": [
              "LinearRegression()"
            ],
            "text/html": [
              "<style>#sk-container-id-1 {color: black;background-color: white;}#sk-container-id-1 pre{padding: 0;}#sk-container-id-1 div.sk-toggleable {background-color: white;}#sk-container-id-1 label.sk-toggleable__label {cursor: pointer;display: block;width: 100%;margin-bottom: 0;padding: 0.3em;box-sizing: border-box;text-align: center;}#sk-container-id-1 label.sk-toggleable__label-arrow:before {content: \"▸\";float: left;margin-right: 0.25em;color: #696969;}#sk-container-id-1 label.sk-toggleable__label-arrow:hover:before {color: black;}#sk-container-id-1 div.sk-estimator:hover label.sk-toggleable__label-arrow:before {color: black;}#sk-container-id-1 div.sk-toggleable__content {max-height: 0;max-width: 0;overflow: hidden;text-align: left;background-color: #f0f8ff;}#sk-container-id-1 div.sk-toggleable__content pre {margin: 0.2em;color: black;border-radius: 0.25em;background-color: #f0f8ff;}#sk-container-id-1 input.sk-toggleable__control:checked~div.sk-toggleable__content {max-height: 200px;max-width: 100%;overflow: auto;}#sk-container-id-1 input.sk-toggleable__control:checked~label.sk-toggleable__label-arrow:before {content: \"▾\";}#sk-container-id-1 div.sk-estimator input.sk-toggleable__control:checked~label.sk-toggleable__label {background-color: #d4ebff;}#sk-container-id-1 div.sk-label input.sk-toggleable__control:checked~label.sk-toggleable__label {background-color: #d4ebff;}#sk-container-id-1 input.sk-hidden--visually {border: 0;clip: rect(1px 1px 1px 1px);clip: rect(1px, 1px, 1px, 1px);height: 1px;margin: -1px;overflow: hidden;padding: 0;position: absolute;width: 1px;}#sk-container-id-1 div.sk-estimator {font-family: monospace;background-color: #f0f8ff;border: 1px dotted black;border-radius: 0.25em;box-sizing: border-box;margin-bottom: 0.5em;}#sk-container-id-1 div.sk-estimator:hover {background-color: #d4ebff;}#sk-container-id-1 div.sk-parallel-item::after {content: \"\";width: 100%;border-bottom: 1px solid gray;flex-grow: 1;}#sk-container-id-1 div.sk-label:hover label.sk-toggleable__label {background-color: #d4ebff;}#sk-container-id-1 div.sk-serial::before {content: \"\";position: absolute;border-left: 1px solid gray;box-sizing: border-box;top: 0;bottom: 0;left: 50%;z-index: 0;}#sk-container-id-1 div.sk-serial {display: flex;flex-direction: column;align-items: center;background-color: white;padding-right: 0.2em;padding-left: 0.2em;position: relative;}#sk-container-id-1 div.sk-item {position: relative;z-index: 1;}#sk-container-id-1 div.sk-parallel {display: flex;align-items: stretch;justify-content: center;background-color: white;position: relative;}#sk-container-id-1 div.sk-item::before, #sk-container-id-1 div.sk-parallel-item::before {content: \"\";position: absolute;border-left: 1px solid gray;box-sizing: border-box;top: 0;bottom: 0;left: 50%;z-index: -1;}#sk-container-id-1 div.sk-parallel-item {display: flex;flex-direction: column;z-index: 1;position: relative;background-color: white;}#sk-container-id-1 div.sk-parallel-item:first-child::after {align-self: flex-end;width: 50%;}#sk-container-id-1 div.sk-parallel-item:last-child::after {align-self: flex-start;width: 50%;}#sk-container-id-1 div.sk-parallel-item:only-child::after {width: 0;}#sk-container-id-1 div.sk-dashed-wrapped {border: 1px dashed gray;margin: 0 0.4em 0.5em 0.4em;box-sizing: border-box;padding-bottom: 0.4em;background-color: white;}#sk-container-id-1 div.sk-label label {font-family: monospace;font-weight: bold;display: inline-block;line-height: 1.2em;}#sk-container-id-1 div.sk-label-container {text-align: center;}#sk-container-id-1 div.sk-container {/* jupyter's `normalize.less` sets `[hidden] { display: none; }` but bootstrap.min.css set `[hidden] { display: none !important; }` so we also need the `!important` here to be able to override the default hidden behavior on the sphinx rendered scikit-learn.org. See: https://github.com/scikit-learn/scikit-learn/issues/21755 */display: inline-block !important;position: relative;}#sk-container-id-1 div.sk-text-repr-fallback {display: none;}</style><div id=\"sk-container-id-1\" class=\"sk-top-container\"><div class=\"sk-text-repr-fallback\"><pre>LinearRegression()</pre><b>In a Jupyter environment, please rerun this cell to show the HTML representation or trust the notebook. <br />On GitHub, the HTML representation is unable to render, please try loading this page with nbviewer.org.</b></div><div class=\"sk-container\" hidden><div class=\"sk-item\"><div class=\"sk-estimator sk-toggleable\"><input class=\"sk-toggleable__control sk-hidden--visually\" id=\"sk-estimator-id-1\" type=\"checkbox\" checked><label for=\"sk-estimator-id-1\" class=\"sk-toggleable__label sk-toggleable__label-arrow\">LinearRegression</label><div class=\"sk-toggleable__content\"><pre>LinearRegression()</pre></div></div></div></div></div>"
            ]
          },
          "metadata": {},
          "execution_count": 11
        }
      ]
    },
    {
      "cell_type": "code",
      "source": [
        "# Predicting on the test set\n",
        "y_pred = regressor.predict(x_test)"
      ],
      "metadata": {
        "id": "Z8DuF6xO2Hr1"
      },
      "execution_count": 12,
      "outputs": []
    },
    {
      "cell_type": "code",
      "source": [
        "from sklearn.metrics import mean_squared_error, mean_absolute_error, r2_score\n",
        "# Evaluate the model using different metrics\n",
        "mse = mean_squared_error(y_test, y_pred)\n",
        "mae = mean_absolute_error(y_test, y_pred)\n",
        "r2 = r2_score(y_test, y_pred)\n",
        "\n",
        "print(f'Mean Squared Error (linear Regression): {mse}')\n",
        "print(f'Mean Absolute Error (linear Regression): {mae}')\n",
        "print(f'R-squared (linear Regression): {r2}')"
      ],
      "metadata": {
        "colab": {
          "base_uri": "https://localhost:8080/"
        },
        "id": "QbuwGtv_5UHT",
        "outputId": "c1412f3f-a61c-4a92-abe2-270a7328337e"
      },
      "execution_count": 33,
      "outputs": [
        {
          "output_type": "stream",
          "name": "stdout",
          "text": [
            "Mean Squared Error (linear Regression): 5001.109248766673\n",
            "Mean Absolute Error (linear Regression): 47.86616824662823\n",
            "R-squared (linear Regression): 0.9999450538360702\n"
          ]
        }
      ]
    },
    {
      "cell_type": "code",
      "source": [
        "# Predicting the closing price for a new set of features\n",
        "new_features = np.array([[31722.16,\t31800.90,\t31597.31]])  # Replace with your own values\n",
        "predicted_closing_price = regressor.predict(new_features)\n",
        "print(f'Predicted Closing Price for New Features: {predicted_closing_price[0]}')\n"
      ],
      "metadata": {
        "colab": {
          "base_uri": "https://localhost:8080/"
        },
        "id": "tOUPCRjl2Rju",
        "outputId": "a6681266-d248-4e58-dd15-fc3079a19fc3"
      },
      "execution_count": 14,
      "outputs": [
        {
          "output_type": "stream",
          "name": "stdout",
          "text": [
            "Predicted Closing Price for New Features: 31676.66940644067\n"
          ]
        }
      ]
    },
    {
      "cell_type": "code",
      "source": [
        "#applying polynomial regression model\n",
        "from sklearn.preprocessing import PolynomialFeatures\n",
        "\n",
        "poly_reg=PolynomialFeatures(degree=2)\n",
        "x_train_poly = poly_reg.fit_transform(x_train)\n",
        "x_test_poly = poly_reg.transform(x_test)\n",
        "\n",
        "lin_reg_2 = LinearRegression()\n",
        "lin_reg_2.fit(x_train_poly, y_train)"
      ],
      "metadata": {
        "colab": {
          "base_uri": "https://localhost:8080/",
          "height": 74
        },
        "id": "w78fVGZV5ULl",
        "outputId": "6c9702e0-6ce1-4f67-e327-d0f8aa9ed756"
      },
      "execution_count": 15,
      "outputs": [
        {
          "output_type": "execute_result",
          "data": {
            "text/plain": [
              "LinearRegression()"
            ],
            "text/html": [
              "<style>#sk-container-id-2 {color: black;background-color: white;}#sk-container-id-2 pre{padding: 0;}#sk-container-id-2 div.sk-toggleable {background-color: white;}#sk-container-id-2 label.sk-toggleable__label {cursor: pointer;display: block;width: 100%;margin-bottom: 0;padding: 0.3em;box-sizing: border-box;text-align: center;}#sk-container-id-2 label.sk-toggleable__label-arrow:before {content: \"▸\";float: left;margin-right: 0.25em;color: #696969;}#sk-container-id-2 label.sk-toggleable__label-arrow:hover:before {color: black;}#sk-container-id-2 div.sk-estimator:hover label.sk-toggleable__label-arrow:before {color: black;}#sk-container-id-2 div.sk-toggleable__content {max-height: 0;max-width: 0;overflow: hidden;text-align: left;background-color: #f0f8ff;}#sk-container-id-2 div.sk-toggleable__content pre {margin: 0.2em;color: black;border-radius: 0.25em;background-color: #f0f8ff;}#sk-container-id-2 input.sk-toggleable__control:checked~div.sk-toggleable__content {max-height: 200px;max-width: 100%;overflow: auto;}#sk-container-id-2 input.sk-toggleable__control:checked~label.sk-toggleable__label-arrow:before {content: \"▾\";}#sk-container-id-2 div.sk-estimator input.sk-toggleable__control:checked~label.sk-toggleable__label {background-color: #d4ebff;}#sk-container-id-2 div.sk-label input.sk-toggleable__control:checked~label.sk-toggleable__label {background-color: #d4ebff;}#sk-container-id-2 input.sk-hidden--visually {border: 0;clip: rect(1px 1px 1px 1px);clip: rect(1px, 1px, 1px, 1px);height: 1px;margin: -1px;overflow: hidden;padding: 0;position: absolute;width: 1px;}#sk-container-id-2 div.sk-estimator {font-family: monospace;background-color: #f0f8ff;border: 1px dotted black;border-radius: 0.25em;box-sizing: border-box;margin-bottom: 0.5em;}#sk-container-id-2 div.sk-estimator:hover {background-color: #d4ebff;}#sk-container-id-2 div.sk-parallel-item::after {content: \"\";width: 100%;border-bottom: 1px solid gray;flex-grow: 1;}#sk-container-id-2 div.sk-label:hover label.sk-toggleable__label {background-color: #d4ebff;}#sk-container-id-2 div.sk-serial::before {content: \"\";position: absolute;border-left: 1px solid gray;box-sizing: border-box;top: 0;bottom: 0;left: 50%;z-index: 0;}#sk-container-id-2 div.sk-serial {display: flex;flex-direction: column;align-items: center;background-color: white;padding-right: 0.2em;padding-left: 0.2em;position: relative;}#sk-container-id-2 div.sk-item {position: relative;z-index: 1;}#sk-container-id-2 div.sk-parallel {display: flex;align-items: stretch;justify-content: center;background-color: white;position: relative;}#sk-container-id-2 div.sk-item::before, #sk-container-id-2 div.sk-parallel-item::before {content: \"\";position: absolute;border-left: 1px solid gray;box-sizing: border-box;top: 0;bottom: 0;left: 50%;z-index: -1;}#sk-container-id-2 div.sk-parallel-item {display: flex;flex-direction: column;z-index: 1;position: relative;background-color: white;}#sk-container-id-2 div.sk-parallel-item:first-child::after {align-self: flex-end;width: 50%;}#sk-container-id-2 div.sk-parallel-item:last-child::after {align-self: flex-start;width: 50%;}#sk-container-id-2 div.sk-parallel-item:only-child::after {width: 0;}#sk-container-id-2 div.sk-dashed-wrapped {border: 1px dashed gray;margin: 0 0.4em 0.5em 0.4em;box-sizing: border-box;padding-bottom: 0.4em;background-color: white;}#sk-container-id-2 div.sk-label label {font-family: monospace;font-weight: bold;display: inline-block;line-height: 1.2em;}#sk-container-id-2 div.sk-label-container {text-align: center;}#sk-container-id-2 div.sk-container {/* jupyter's `normalize.less` sets `[hidden] { display: none; }` but bootstrap.min.css set `[hidden] { display: none !important; }` so we also need the `!important` here to be able to override the default hidden behavior on the sphinx rendered scikit-learn.org. See: https://github.com/scikit-learn/scikit-learn/issues/21755 */display: inline-block !important;position: relative;}#sk-container-id-2 div.sk-text-repr-fallback {display: none;}</style><div id=\"sk-container-id-2\" class=\"sk-top-container\"><div class=\"sk-text-repr-fallback\"><pre>LinearRegression()</pre><b>In a Jupyter environment, please rerun this cell to show the HTML representation or trust the notebook. <br />On GitHub, the HTML representation is unable to render, please try loading this page with nbviewer.org.</b></div><div class=\"sk-container\" hidden><div class=\"sk-item\"><div class=\"sk-estimator sk-toggleable\"><input class=\"sk-toggleable__control sk-hidden--visually\" id=\"sk-estimator-id-2\" type=\"checkbox\" checked><label for=\"sk-estimator-id-2\" class=\"sk-toggleable__label sk-toggleable__label-arrow\">LinearRegression</label><div class=\"sk-toggleable__content\"><pre>LinearRegression()</pre></div></div></div></div></div>"
            ]
          },
          "metadata": {},
          "execution_count": 15
        }
      ]
    },
    {
      "cell_type": "code",
      "source": [
        "# Predicting on the test set using polynomial regression\n",
        "y_pred_poly = lin_reg_2.predict(x_test_poly)"
      ],
      "metadata": {
        "id": "MTjflEH12elc"
      },
      "execution_count": 16,
      "outputs": []
    },
    {
      "cell_type": "code",
      "source": [
        "# Evaluate the polynomial regression model\n",
        "mse_poly = mean_squared_error(y_test, y_pred_poly)\n",
        "mae_poly = mean_absolute_error(y_test, y_pred_poly)\n",
        "r2_poly = r2_score(y_test, y_pred_poly)\n",
        "\n",
        "print(f'Mean Squared Error (Polynomial Regression): {mse_poly}')\n",
        "print(f'Mean Absolute Error (Polynomial Regression): {mae_poly}')\n",
        "print(f'R-squared (Polynomial Regression): {r2_poly}')\n"
      ],
      "metadata": {
        "colab": {
          "base_uri": "https://localhost:8080/"
        },
        "id": "ibHrSHMZ-y3O",
        "outputId": "64c65797-49aa-4ade-c521-ba7411c2bbf2"
      },
      "execution_count": 17,
      "outputs": [
        {
          "output_type": "stream",
          "name": "stdout",
          "text": [
            "Mean Squared Error (Polynomial Regression): 5076.965326403008\n",
            "Mean Absolute Error (Polynomial Regression): 48.76218708881403\n",
            "R-squared (Polynomial Regression): 0.9999442204208678\n"
          ]
        }
      ]
    },
    {
      "cell_type": "code",
      "source": [
        "new_features_poly = poly_reg.transform(new_features)\n",
        "predicted_closing_price_poly = lin_reg_2.predict(new_features_poly)\n",
        "print(f'Predicted Closing Price for New Features (Polynomial Regression): {predicted_closing_price_poly[0]}')"
      ],
      "metadata": {
        "colab": {
          "base_uri": "https://localhost:8080/"
        },
        "id": "YiFvIWeQ_y-Y",
        "outputId": "61ec93ab-5242-4fae-fa0c-4b6d3ddd4696"
      },
      "execution_count": 18,
      "outputs": [
        {
          "output_type": "stream",
          "name": "stdout",
          "text": [
            "Predicted Closing Price for New Features (Polynomial Regression): 31683.74996903978\n"
          ]
        }
      ]
    },
    {
      "cell_type": "code",
      "source": [
        "# Applying RandomForestRegressor\n",
        "from sklearn.ensemble import RandomForestRegressor\n",
        "regressor_rf = RandomForestRegressor(n_estimators=300, random_state=0)\n",
        "regressor_rf.fit(x_train, y_train)"
      ],
      "metadata": {
        "id": "7IYhqTv1H1nx",
        "colab": {
          "base_uri": "https://localhost:8080/",
          "height": 74
        },
        "outputId": "2e222030-b01a-4c08-a4ac-068a39246041"
      },
      "execution_count": 19,
      "outputs": [
        {
          "output_type": "execute_result",
          "data": {
            "text/plain": [
              "RandomForestRegressor(n_estimators=300, random_state=0)"
            ],
            "text/html": [
              "<style>#sk-container-id-3 {color: black;background-color: white;}#sk-container-id-3 pre{padding: 0;}#sk-container-id-3 div.sk-toggleable {background-color: white;}#sk-container-id-3 label.sk-toggleable__label {cursor: pointer;display: block;width: 100%;margin-bottom: 0;padding: 0.3em;box-sizing: border-box;text-align: center;}#sk-container-id-3 label.sk-toggleable__label-arrow:before {content: \"▸\";float: left;margin-right: 0.25em;color: #696969;}#sk-container-id-3 label.sk-toggleable__label-arrow:hover:before {color: black;}#sk-container-id-3 div.sk-estimator:hover label.sk-toggleable__label-arrow:before {color: black;}#sk-container-id-3 div.sk-toggleable__content {max-height: 0;max-width: 0;overflow: hidden;text-align: left;background-color: #f0f8ff;}#sk-container-id-3 div.sk-toggleable__content pre {margin: 0.2em;color: black;border-radius: 0.25em;background-color: #f0f8ff;}#sk-container-id-3 input.sk-toggleable__control:checked~div.sk-toggleable__content {max-height: 200px;max-width: 100%;overflow: auto;}#sk-container-id-3 input.sk-toggleable__control:checked~label.sk-toggleable__label-arrow:before {content: \"▾\";}#sk-container-id-3 div.sk-estimator input.sk-toggleable__control:checked~label.sk-toggleable__label {background-color: #d4ebff;}#sk-container-id-3 div.sk-label input.sk-toggleable__control:checked~label.sk-toggleable__label {background-color: #d4ebff;}#sk-container-id-3 input.sk-hidden--visually {border: 0;clip: rect(1px 1px 1px 1px);clip: rect(1px, 1px, 1px, 1px);height: 1px;margin: -1px;overflow: hidden;padding: 0;position: absolute;width: 1px;}#sk-container-id-3 div.sk-estimator {font-family: monospace;background-color: #f0f8ff;border: 1px dotted black;border-radius: 0.25em;box-sizing: border-box;margin-bottom: 0.5em;}#sk-container-id-3 div.sk-estimator:hover {background-color: #d4ebff;}#sk-container-id-3 div.sk-parallel-item::after {content: \"\";width: 100%;border-bottom: 1px solid gray;flex-grow: 1;}#sk-container-id-3 div.sk-label:hover label.sk-toggleable__label {background-color: #d4ebff;}#sk-container-id-3 div.sk-serial::before {content: \"\";position: absolute;border-left: 1px solid gray;box-sizing: border-box;top: 0;bottom: 0;left: 50%;z-index: 0;}#sk-container-id-3 div.sk-serial {display: flex;flex-direction: column;align-items: center;background-color: white;padding-right: 0.2em;padding-left: 0.2em;position: relative;}#sk-container-id-3 div.sk-item {position: relative;z-index: 1;}#sk-container-id-3 div.sk-parallel {display: flex;align-items: stretch;justify-content: center;background-color: white;position: relative;}#sk-container-id-3 div.sk-item::before, #sk-container-id-3 div.sk-parallel-item::before {content: \"\";position: absolute;border-left: 1px solid gray;box-sizing: border-box;top: 0;bottom: 0;left: 50%;z-index: -1;}#sk-container-id-3 div.sk-parallel-item {display: flex;flex-direction: column;z-index: 1;position: relative;background-color: white;}#sk-container-id-3 div.sk-parallel-item:first-child::after {align-self: flex-end;width: 50%;}#sk-container-id-3 div.sk-parallel-item:last-child::after {align-self: flex-start;width: 50%;}#sk-container-id-3 div.sk-parallel-item:only-child::after {width: 0;}#sk-container-id-3 div.sk-dashed-wrapped {border: 1px dashed gray;margin: 0 0.4em 0.5em 0.4em;box-sizing: border-box;padding-bottom: 0.4em;background-color: white;}#sk-container-id-3 div.sk-label label {font-family: monospace;font-weight: bold;display: inline-block;line-height: 1.2em;}#sk-container-id-3 div.sk-label-container {text-align: center;}#sk-container-id-3 div.sk-container {/* jupyter's `normalize.less` sets `[hidden] { display: none; }` but bootstrap.min.css set `[hidden] { display: none !important; }` so we also need the `!important` here to be able to override the default hidden behavior on the sphinx rendered scikit-learn.org. See: https://github.com/scikit-learn/scikit-learn/issues/21755 */display: inline-block !important;position: relative;}#sk-container-id-3 div.sk-text-repr-fallback {display: none;}</style><div id=\"sk-container-id-3\" class=\"sk-top-container\"><div class=\"sk-text-repr-fallback\"><pre>RandomForestRegressor(n_estimators=300, random_state=0)</pre><b>In a Jupyter environment, please rerun this cell to show the HTML representation or trust the notebook. <br />On GitHub, the HTML representation is unable to render, please try loading this page with nbviewer.org.</b></div><div class=\"sk-container\" hidden><div class=\"sk-item\"><div class=\"sk-estimator sk-toggleable\"><input class=\"sk-toggleable__control sk-hidden--visually\" id=\"sk-estimator-id-3\" type=\"checkbox\" checked><label for=\"sk-estimator-id-3\" class=\"sk-toggleable__label sk-toggleable__label-arrow\">RandomForestRegressor</label><div class=\"sk-toggleable__content\"><pre>RandomForestRegressor(n_estimators=300, random_state=0)</pre></div></div></div></div></div>"
            ]
          },
          "metadata": {},
          "execution_count": 19
        }
      ]
    },
    {
      "cell_type": "code",
      "source": [
        "y_pred_rf = regressor_rf.predict(x_test)"
      ],
      "metadata": {
        "id": "_bVJPWDOH1qH"
      },
      "execution_count": 20,
      "outputs": []
    },
    {
      "cell_type": "code",
      "source": [
        "mse_rf = mean_squared_error(y_test, y_pred_rf)\n",
        "mae_rf = mean_absolute_error(y_test, y_pred_rf)\n",
        "r2_rf = r2_score(y_test, y_pred_rf)\n",
        "print('\\nRandomForest Regression Metrics:')\n",
        "print(f'Mean Squared Error: {mse_rf}')\n",
        "print(f'Mean Absolute Error: {mae_rf}')\n",
        "print(f'R-squared: {r2_rf}')"
      ],
      "metadata": {
        "colab": {
          "base_uri": "https://localhost:8080/"
        },
        "id": "sfzL7Tes-EZS",
        "outputId": "35fe5d67-4f94-44e2-cd7f-aff658bb80a4"
      },
      "execution_count": 21,
      "outputs": [
        {
          "output_type": "stream",
          "name": "stdout",
          "text": [
            "\n",
            "RandomForest Regression Metrics:\n",
            "Mean Squared Error: 11967.495037240353\n",
            "Mean Absolute Error: 69.75942031007742\n",
            "R-squared: 0.9998685155809569\n"
          ]
        }
      ]
    },
    {
      "cell_type": "code",
      "source": [
        "# Predicting with RandomForest Regression\n",
        "predicted_closing_price_rf = regressor_rf.predict(new_features)\n",
        "print(f'Predicted Closing Price (Random Forest Regression): {predicted_closing_price_rf[0]}')"
      ],
      "metadata": {
        "colab": {
          "base_uri": "https://localhost:8080/"
        },
        "id": "JPLRWql4AbqH",
        "outputId": "fd73bfae-d108-4211-f663-360cb74a7b7f"
      },
      "execution_count": 22,
      "outputs": [
        {
          "output_type": "stream",
          "name": "stdout",
          "text": [
            "Predicted Closing Price (Random Forest Regression): 31702.18580000004\n"
          ]
        }
      ]
    },
    {
      "cell_type": "code",
      "source": [
        "from sklearn.neighbors import KNeighborsRegressor\n",
        "\n",
        "knn_regressor = KNeighborsRegressor(n_neighbors=5)\n",
        "knn_regressor.fit(x_train, y_train)\n",
        "\n",
        "y_pred_knn = knn_regressor.predict(x_test)\n"
      ],
      "metadata": {
        "id": "OMI9XKZ-Cpss"
      },
      "execution_count": 23,
      "outputs": []
    },
    {
      "cell_type": "code",
      "source": [
        "mse_knn = mean_squared_error(y_test, y_pred_knn)\n",
        "mae_knn = mean_absolute_error(y_test, y_pred_knn)\n",
        "r2_knn = r2_score(y_test, y_pred_knn)\n",
        "print('\\nK-Nearest Neighbors (KNN): Metrics:')\n",
        "print(f'Mean Squared Error: {mse_knn}')\n",
        "print(f'Mean Absolute Error: {mae_knn}')\n",
        "print(f'R-squared: {r2_knn}')"
      ],
      "metadata": {
        "colab": {
          "base_uri": "https://localhost:8080/"
        },
        "id": "WxqWVHvqJ49x",
        "outputId": "ea5c123a-0b9b-4395-ef32-d80daa518f4d"
      },
      "execution_count": 24,
      "outputs": [
        {
          "output_type": "stream",
          "name": "stdout",
          "text": [
            "\n",
            "K-Nearest Neighbors (KNN): Metrics:\n",
            "Mean Squared Error: 10227.715010604656\n",
            "Mean Absolute Error: 69.60511007751936\n",
            "R-squared: 0.9998876301880951\n"
          ]
        }
      ]
    },
    {
      "cell_type": "code",
      "source": [
        "#svm\n",
        "from sklearn.svm import SVR\n",
        "svr_regressor = SVR(kernel='linear')\n",
        "svr_regressor.fit(x_train, y_train)\n",
        "\n",
        "# Predicting on the test set\n",
        "y_pred_svr = svr_regressor.predict(x_test)\n"
      ],
      "metadata": {
        "id": "Md92aUT4DrEl"
      },
      "execution_count": 25,
      "outputs": []
    },
    {
      "cell_type": "code",
      "source": [
        "mse_svr = mean_squared_error(y_test, y_pred_svr)\n",
        "mae_svr = mean_absolute_error(y_test, y_pred_svr)\n",
        "r2_svr = r2_score(y_test, y_pred_svr)\n",
        "print('\\nSupport Vector Regression (SVR): Metrics:')\n",
        "print(f'Mean Squared Error: {mse_svr}')\n",
        "print(f'Mean Absolute Error: {mae_svr}')\n",
        "print(f'R-squared: {r2_svr}')"
      ],
      "metadata": {
        "colab": {
          "base_uri": "https://localhost:8080/"
        },
        "id": "apEYsjwUKWur",
        "outputId": "aa90ecce-588f-4901-e6d9-feb4f8adb2bd"
      },
      "execution_count": 26,
      "outputs": [
        {
          "output_type": "stream",
          "name": "stdout",
          "text": [
            "\n",
            "Support Vector Regression (SVR): Metrics:\n",
            "Mean Squared Error: 25635.503258680288\n",
            "Mean Absolute Error: 118.33838632818295\n",
            "R-squared: 0.9997183479715384\n"
          ]
        }
      ]
    },
    {
      "cell_type": "code",
      "source": [
        "from sklearn.preprocessing import StandardScaler\n",
        "scaler = StandardScaler()\n",
        "x_train_scaled = scaler.fit_transform(x_train)\n",
        "x_test_scaled = scaler.transform(x_test)\n",
        "\n"
      ],
      "metadata": {
        "id": "n912QjR14q8z"
      },
      "execution_count": 27,
      "outputs": []
    },
    {
      "cell_type": "code",
      "source": [
        "import keras\n",
        "from keras.models import Sequential\n",
        "from keras.layers import Dense\n",
        "\n",
        "# Build the neural network model\n",
        "model = Sequential()\n",
        "model.add(Dense(64, activation='relu', input_shape=(3,)))\n",
        "model.add(Dense(32, activation='relu'))\n",
        "model.add(Dense(1))\n",
        "\n"
      ],
      "metadata": {
        "id": "sqAwGIqk4rFa"
      },
      "execution_count": 28,
      "outputs": []
    },
    {
      "cell_type": "code",
      "source": [
        "# Compile the model\n",
        "model.compile(optimizer='adam', loss='mean_squared_error')\n",
        "\n"
      ],
      "metadata": {
        "id": "yadsm4kK4rKg"
      },
      "execution_count": 29,
      "outputs": []
    },
    {
      "cell_type": "code",
      "source": [
        "# Train the model\n",
        "model.fit(x_train_scaled, y_train, epochs=50, batch_size=32, validation_data=(x_test_scaled, y_test))"
      ],
      "metadata": {
        "colab": {
          "base_uri": "https://localhost:8080/"
        },
        "id": "FVNMCCk-5RLE",
        "outputId": "b76d31ce-1c23-45d6-9a1f-ee502c5f6669"
      },
      "execution_count": 30,
      "outputs": [
        {
          "output_type": "stream",
          "name": "stdout",
          "text": [
            "Epoch 1/50\n",
            "81/81 [==============================] - 1s 5ms/step - loss: 439545280.0000 - val_loss: 465010368.0000\n",
            "Epoch 2/50\n",
            "81/81 [==============================] - 0s 3ms/step - loss: 439111552.0000 - val_loss: 464014144.0000\n",
            "Epoch 3/50\n",
            "81/81 [==============================] - 0s 3ms/step - loss: 437203328.0000 - val_loss: 460810400.0000\n",
            "Epoch 4/50\n",
            "81/81 [==============================] - 0s 2ms/step - loss: 432551040.0000 - val_loss: 454176672.0000\n",
            "Epoch 5/50\n",
            "81/81 [==============================] - 0s 3ms/step - loss: 424159136.0000 - val_loss: 443221856.0000\n",
            "Epoch 6/50\n",
            "81/81 [==============================] - 0s 3ms/step - loss: 411206752.0000 - val_loss: 427335456.0000\n",
            "Epoch 7/50\n",
            "81/81 [==============================] - 0s 3ms/step - loss: 393391328.0000 - val_loss: 406332640.0000\n",
            "Epoch 8/50\n",
            "81/81 [==============================] - 0s 3ms/step - loss: 370739136.0000 - val_loss: 380306272.0000\n",
            "Epoch 9/50\n",
            "81/81 [==============================] - 0s 3ms/step - loss: 343649184.0000 - val_loss: 350109792.0000\n",
            "Epoch 10/50\n",
            "81/81 [==============================] - 0s 2ms/step - loss: 313166944.0000 - val_loss: 316656512.0000\n",
            "Epoch 11/50\n",
            "81/81 [==============================] - 0s 2ms/step - loss: 280306592.0000 - val_loss: 281521728.0000\n",
            "Epoch 12/50\n",
            "81/81 [==============================] - 0s 3ms/step - loss: 246414080.0000 - val_loss: 245640944.0000\n",
            "Epoch 13/50\n",
            "81/81 [==============================] - 0s 2ms/step - loss: 212570272.0000 - val_loss: 209895776.0000\n",
            "Epoch 14/50\n",
            "81/81 [==============================] - 0s 3ms/step - loss: 179574976.0000 - val_loss: 175121968.0000\n",
            "Epoch 15/50\n",
            "81/81 [==============================] - 0s 3ms/step - loss: 147920000.0000 - val_loss: 142597248.0000\n",
            "Epoch 16/50\n",
            "81/81 [==============================] - 0s 2ms/step - loss: 118508360.0000 - val_loss: 112430752.0000\n",
            "Epoch 17/50\n",
            "81/81 [==============================] - 0s 3ms/step - loss: 91847544.0000 - val_loss: 85611064.0000\n",
            "Epoch 18/50\n",
            "81/81 [==============================] - 0s 3ms/step - loss: 68579928.0000 - val_loss: 62605588.0000\n",
            "Epoch 19/50\n",
            "81/81 [==============================] - 0s 2ms/step - loss: 49301624.0000 - val_loss: 43861440.0000\n",
            "Epoch 20/50\n",
            "81/81 [==============================] - 0s 3ms/step - loss: 33914204.0000 - val_loss: 29149076.0000\n",
            "Epoch 21/50\n",
            "81/81 [==============================] - 0s 2ms/step - loss: 22540960.0000 - val_loss: 19368206.0000\n",
            "Epoch 22/50\n",
            "81/81 [==============================] - 0s 3ms/step - loss: 15785332.0000 - val_loss: 14244372.0000\n",
            "Epoch 23/50\n",
            "81/81 [==============================] - 0s 2ms/step - loss: 12537763.0000 - val_loss: 12004269.0000\n",
            "Epoch 24/50\n",
            "81/81 [==============================] - 0s 2ms/step - loss: 11126828.0000 - val_loss: 11046117.0000\n",
            "Epoch 25/50\n",
            "81/81 [==============================] - 0s 3ms/step - loss: 10473181.0000 - val_loss: 10583061.0000\n",
            "Epoch 26/50\n",
            "81/81 [==============================] - 0s 3ms/step - loss: 10086019.0000 - val_loss: 10265290.0000\n",
            "Epoch 27/50\n",
            "81/81 [==============================] - 0s 3ms/step - loss: 9800844.0000 - val_loss: 10010558.0000\n",
            "Epoch 28/50\n",
            "81/81 [==============================] - 0s 3ms/step - loss: 9556523.0000 - val_loss: 9772334.0000\n",
            "Epoch 29/50\n",
            "81/81 [==============================] - 0s 2ms/step - loss: 9327525.0000 - val_loss: 9540356.0000\n",
            "Epoch 30/50\n",
            "81/81 [==============================] - 0s 3ms/step - loss: 9099972.0000 - val_loss: 9308697.0000\n",
            "Epoch 31/50\n",
            "81/81 [==============================] - 0s 3ms/step - loss: 8874107.0000 - val_loss: 9068631.0000\n",
            "Epoch 32/50\n",
            "81/81 [==============================] - 0s 3ms/step - loss: 8649955.0000 - val_loss: 8830000.0000\n",
            "Epoch 33/50\n",
            "81/81 [==============================] - 0s 3ms/step - loss: 8422569.0000 - val_loss: 8593383.0000\n",
            "Epoch 34/50\n",
            "81/81 [==============================] - 0s 3ms/step - loss: 8194807.5000 - val_loss: 8349866.0000\n",
            "Epoch 35/50\n",
            "81/81 [==============================] - 0s 3ms/step - loss: 7966136.5000 - val_loss: 8100888.0000\n",
            "Epoch 36/50\n",
            "81/81 [==============================] - 0s 3ms/step - loss: 7733585.0000 - val_loss: 7854177.5000\n",
            "Epoch 37/50\n",
            "81/81 [==============================] - 0s 3ms/step - loss: 7500451.0000 - val_loss: 7616312.0000\n",
            "Epoch 38/50\n",
            "81/81 [==============================] - 0s 3ms/step - loss: 7271471.5000 - val_loss: 7371036.0000\n",
            "Epoch 39/50\n",
            "81/81 [==============================] - 0s 3ms/step - loss: 7038057.0000 - val_loss: 7136541.0000\n",
            "Epoch 40/50\n",
            "81/81 [==============================] - 0s 3ms/step - loss: 6812401.0000 - val_loss: 6889165.5000\n",
            "Epoch 41/50\n",
            "81/81 [==============================] - 0s 4ms/step - loss: 6584322.0000 - val_loss: 6654881.0000\n",
            "Epoch 42/50\n",
            "81/81 [==============================] - 0s 3ms/step - loss: 6362001.0000 - val_loss: 6418186.0000\n",
            "Epoch 43/50\n",
            "81/81 [==============================] - 0s 3ms/step - loss: 6139548.0000 - val_loss: 6189156.0000\n",
            "Epoch 44/50\n",
            "81/81 [==============================] - 0s 3ms/step - loss: 5922582.5000 - val_loss: 5956187.0000\n",
            "Epoch 45/50\n",
            "81/81 [==============================] - 0s 4ms/step - loss: 5709306.5000 - val_loss: 5734802.5000\n",
            "Epoch 46/50\n",
            "81/81 [==============================] - 0s 3ms/step - loss: 5495706.5000 - val_loss: 5505307.5000\n",
            "Epoch 47/50\n",
            "81/81 [==============================] - 0s 2ms/step - loss: 5288135.0000 - val_loss: 5292323.5000\n",
            "Epoch 48/50\n",
            "81/81 [==============================] - 0s 2ms/step - loss: 5082407.5000 - val_loss: 5081234.0000\n",
            "Epoch 49/50\n",
            "81/81 [==============================] - 0s 3ms/step - loss: 4881436.0000 - val_loss: 4870178.0000\n",
            "Epoch 50/50\n",
            "81/81 [==============================] - 0s 3ms/step - loss: 4686512.0000 - val_loss: 4667959.0000\n"
          ]
        },
        {
          "output_type": "execute_result",
          "data": {
            "text/plain": [
              "<keras.src.callbacks.History at 0x7da349aeadd0>"
            ]
          },
          "metadata": {},
          "execution_count": 30
        }
      ]
    },
    {
      "cell_type": "code",
      "source": [
        "# Predict on the test set\n",
        "y_pred_nn = model.predict(x_test_scaled)"
      ],
      "metadata": {
        "colab": {
          "base_uri": "https://localhost:8080/"
        },
        "id": "rtRt7L8Z5RHV",
        "outputId": "58d8d174-7c8a-4942-8aac-6aa04dfa53ea"
      },
      "execution_count": 31,
      "outputs": [
        {
          "output_type": "stream",
          "name": "stdout",
          "text": [
            "21/21 [==============================] - 0s 1ms/step\n"
          ]
        }
      ]
    },
    {
      "cell_type": "code",
      "source": [
        "# Evaluate the neural network model\n",
        "mse_nn = mean_squared_error(y_test, y_pred_nn)\n",
        "mae_nn = mean_absolute_error(y_test, y_pred_nn)\n",
        "r2_nn = r2_score(y_test, y_pred_nn)\n",
        "print('\\nNeural Network Metrics:')\n",
        "print(f'Mean Squared Error: {mse_nn}')\n",
        "print(f'Mean Absolute Error: {mae_nn}')\n",
        "print(f'R-squared: {r2_nn}')"
      ],
      "metadata": {
        "colab": {
          "base_uri": "https://localhost:8080/"
        },
        "id": "rtVEltgE6yjQ",
        "outputId": "42bc78a0-20d8-46f4-f968-12c68ceb643a"
      },
      "execution_count": 32,
      "outputs": [
        {
          "output_type": "stream",
          "name": "stdout",
          "text": [
            "\n",
            "Neural Network Metrics:\n",
            "Mean Squared Error: 4667958.79189329\n",
            "Mean Absolute Error: 1788.4407308624031\n",
            "R-squared: 0.9487140919666889\n"
          ]
        }
      ]
    },
    {
      "cell_type": "code",
      "source": [],
      "metadata": {
        "id": "Fxrs62166ymP"
      },
      "execution_count": null,
      "outputs": []
    }
  ]
}